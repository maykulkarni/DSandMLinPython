{
 "cells": [
  {
   "cell_type": "code",
   "execution_count": null,
   "metadata": {
    "collapsed": true
   },
   "outputs": [
    {
     "data": {
      "text/plain": [
       "10"
      ]
     },
     "execution_count": 5,
     "metadata": {},
     "output_type": "execute_result"
    }
   ],
   "source": [
    "from pandas import Series\n",
    "import pandas as pd\n",
    "\n",
    "a = Series([1, 2, 3, 4])\n",
    "\n",
    "# print values\n",
    "a.values\n",
    "# indices\n",
    "a.index\n",
    "\n",
    "# use different indices\n",
    "b = Series([10, 20, 30, 50], ['Mayur', 'Naruto', 'Uzumaki', 'Sasuke'])\n",
    "\n",
    "# can now use index as 'Mayur', this is like dictionary\n",
    "b['Mayur']"
   ]
  },
  {
   "cell_type": "markdown",
   "metadata": {},
   "source": [
    "## Operations on Series\n"
   ]
  },
  {
   "cell_type": "code",
   "execution_count": 7,
   "metadata": {},
   "outputs": [
    {
     "data": {
      "text/plain": [
       "This is an index name\na    1\nb    2\nc    3\nd    4\nName: Random Series, dtype: int64"
      ]
     },
     "execution_count": 6,
     "metadata": {},
     "output_type": "execute_result"
    }
   ],
   "source": [
    "# can select using bool operations\n",
    "b[b > 20]\n",
    "\n",
    "# is some index present in the Series\n",
    "'Mayur' in b  # returns True\n",
    "\n",
    "# convert to dict\n",
    "b_dict = b.to_dict()\n",
    "b_dict  # {'Mayur': 10, 'Naruto': 20, 'Sasuke': 50, 'Uzumaki': 30}\n",
    "\n",
    "# Series can also be constructed from dictionary\n",
    "series_from_dict = Series(b_dict)\n",
    "series_from_dict\n",
    "\n",
    "# passing custom index from list will keep the existing\n",
    "# keys from the list same while inserting NaN for new ones\n",
    "# eg: {'a': 10, 'b': 20} and passing index list as ['a', 'b', 'c']\n",
    "# will have effect: {'a': 10, 'b': 20, 'c': NaN}\n",
    "# these NaNs can be checked using pd.isnull()\n",
    "a = Series(series_from_dict, index=['Mayur', 'Sakura'])\n",
    "a\n",
    "pd.isnull(a)  # will have entry true for 'Sakura'\n",
    "\n",
    "# can also check for notnull, just opposite of isnull\n",
    "pd.notnull(a)\n",
    "\n",
    "# adding series to series will sort them by index\n",
    "# and add values corresponding to similar indices\n",
    "# Indices present in one but not other will ending\n",
    "# up being NaN\n",
    "a = Series([1, 2, 3, 4], ['a', 'b', 'c', 'd'])\n",
    "b = Series([5, 6, 7, 8], ['a', 'b', 'g', 'h'])\n",
    "a + b\n",
    "\n",
    "# We can set name for Series and it's indices\n",
    "a.name = \"Random Series\"\n",
    "a.index.name = \"This is an index name\"\n",
    "a"
   ]
  },
  {
   "cell_type": "markdown",
   "metadata": {},
   "source": [
    "## Indices can't be edited since they're immuatble"
   ]
  },
  {
   "cell_type": "code",
   "execution_count": 7,
   "metadata": {},
   "outputs": [
    {
     "ename": "TypeError",
     "evalue": "Index does not support mutable operations",
     "traceback": [
      "\u001b[0;31m\u001b[0m",
      "\u001b[0;31mTypeError\u001b[0mTraceback (most recent call last)",
      "\u001b[0;32m<ipython-input-7-bb5e7993ebfc>\u001b[0m in \u001b[0;36m<module>\u001b[0;34m()\u001b[0m\n\u001b[1;32m      1\u001b[0m \u001b[0ma\u001b[0m \u001b[1;33m=\u001b[0m \u001b[0mSeries\u001b[0m\u001b[1;33m(\u001b[0m\u001b[1;33m[\u001b[0m\u001b[1;36m1\u001b[0m\u001b[1;33m,\u001b[0m \u001b[1;36m2\u001b[0m\u001b[1;33m,\u001b[0m \u001b[1;36m3\u001b[0m\u001b[1;33m,\u001b[0m \u001b[1;36m4\u001b[0m\u001b[1;33m]\u001b[0m\u001b[1;33m,\u001b[0m \u001b[0mindex\u001b[0m\u001b[1;33m=\u001b[0m\u001b[1;33m[\u001b[0m\u001b[1;34m'A'\u001b[0m\u001b[1;33m,\u001b[0m \u001b[1;34m'B'\u001b[0m\u001b[1;33m,\u001b[0m \u001b[1;34m'C'\u001b[0m\u001b[1;33m,\u001b[0m \u001b[1;34m'D'\u001b[0m\u001b[1;33m]\u001b[0m\u001b[1;33m)\u001b[0m\u001b[1;33m\u001b[0m\u001b[0m\n\u001b[1;32m      2\u001b[0m \u001b[0ma\u001b[0m\u001b[1;33m\u001b[0m\u001b[0m\n\u001b[0;32m----> 3\u001b[0;31m \u001b[0ma\u001b[0m\u001b[1;33m.\u001b[0m\u001b[0mindex\u001b[0m\u001b[1;33m[\u001b[0m\u001b[1;36m0\u001b[0m\u001b[1;33m]\u001b[0m \u001b[1;33m=\u001b[0m \u001b[1;34m'Z'\u001b[0m  \u001b[1;31m# Error: Index does not support mutable operations\u001b[0m\u001b[1;33m\u001b[0m\u001b[0m\n\u001b[0m",
      "\u001b[0;32mC:\\Program Files (x86)\\Anaconda2\\lib\\site-packages\\pandas\\indexes\\base.pyc\u001b[0m in \u001b[0;36m__setitem__\u001b[0;34m(self, key, value)\u001b[0m\n\u001b[1;32m   1243\u001b[0m \u001b[1;33m\u001b[0m\u001b[0m\n\u001b[1;32m   1244\u001b[0m     \u001b[1;32mdef\u001b[0m \u001b[0m__setitem__\u001b[0m\u001b[1;33m(\u001b[0m\u001b[0mself\u001b[0m\u001b[1;33m,\u001b[0m \u001b[0mkey\u001b[0m\u001b[1;33m,\u001b[0m \u001b[0mvalue\u001b[0m\u001b[1;33m)\u001b[0m\u001b[1;33m:\u001b[0m\u001b[1;33m\u001b[0m\u001b[0m\n\u001b[0;32m-> 1245\u001b[0;31m         \u001b[1;32mraise\u001b[0m \u001b[0mTypeError\u001b[0m\u001b[1;33m(\u001b[0m\u001b[1;34m\"Index does not support mutable operations\"\u001b[0m\u001b[1;33m)\u001b[0m\u001b[1;33m\u001b[0m\u001b[0m\n\u001b[0m\u001b[1;32m   1246\u001b[0m \u001b[1;33m\u001b[0m\u001b[0m\n\u001b[1;32m   1247\u001b[0m     \u001b[1;32mdef\u001b[0m \u001b[0m__getitem__\u001b[0m\u001b[1;33m(\u001b[0m\u001b[0mself\u001b[0m\u001b[1;33m,\u001b[0m \u001b[0mkey\u001b[0m\u001b[1;33m)\u001b[0m\u001b[1;33m:\u001b[0m\u001b[1;33m\u001b[0m\u001b[0m\n",
      "\u001b[0;31mTypeError\u001b[0m: Index does not support mutable operations"
     ],
     "output_type": "error"
    }
   ],
   "source": [
    "a = Series([1, 2, 3, 4], index=['A', 'B', 'C', 'D'])\n",
    "a\n",
    "a.index[0] = 'Z'  # Error: Index does not support mutable operations"
   ]
  },
  {
   "cell_type": "markdown",
   "metadata": {},
   "source": [
    "## Reindexing"
   ]
  },
  {
   "cell_type": "code",
   "execution_count": null,
   "metadata": {},
   "outputs": [
    {
     "data": {
      "text/plain": [
       "X   -1\nY   -1\nZ   -1\nL   -1\ndtype: int64"
      ]
     },
     "execution_count": 9,
     "metadata": {},
     "output_type": "execute_result"
    }
   ],
   "source": [
    "a = Series([1, 2, 3, 4], index=['A', 'B', 'C', 'D'])\n",
    "a\n",
    "new_index = ['C', 'D', 'E', 'F']\n",
    "b = a.reindex(new_index)\n",
    "b\n",
    "# Since 'E' and 'F' were not in the original index list\n",
    "# they'll be set to NaN, can be filled with default\n",
    "# values using fill_value\n",
    "c = a.reindex(['X', 'Y', 'Z', 'L'], fill_value=-1)\n",
    "c  # No NaNs, filled with -1 instead"
   ]
  },
  {
   "cell_type": "code",
   "execution_count": null,
   "metadata": {},
   "outputs": [
    {
     "data": {
      "text/plain": [
       "0        USA\n1      India\n2      India\n3      India\n4      India\n5      India\n6     Mexico\n7     Mexico\n8     Mexico\n9     Mexico\n10    Mexico\n11       NaN\n12       NaN\n13       NaN\n14       NaN\ndtype: object"
      ]
     },
     "execution_count": 26,
     "metadata": {},
     "output_type": "execute_result"
    }
   ],
   "source": [
    "# There are different methods that you can reindex with\n",
    "# ffill = forward fill\n",
    "# eg: {1: USA, 5: India, 10:Mexico}\n",
    "# and If I pass the index to be range(15) then \n",
    "# indices 0-4 will have value 'USA', 5-9 will have 'India'\n",
    "# 10-14 will have 'Mexico'\n",
    "a = Series(['USA', 'India', 'Mexico'], index=[0, 5, 10])\n",
    "a.reindex(range(15), method='ffill')\n",
    "\n",
    "# method = 'bkfill' will do the same thing but in \n",
    "# opposite order, remember last entries will be NaN\n",
    "a.reindex(range(15), method='bfill')"
   ]
  },
  {
   "cell_type": "markdown",
   "metadata": {},
   "source": [
    "## Dropping entries"
   ]
  },
  {
   "cell_type": "code",
   "execution_count": null,
   "metadata": {},
   "outputs": [
    {
     "data": {
      "text/plain": [
       "B    2\nC    3\nD    4\ndtype: int64"
      ]
     },
     "execution_count": 28,
     "metadata": {},
     "output_type": "execute_result"
    }
   ],
   "source": [
    "a = Series([1, 2, 3, 4], index=['A', 'B', 'C', 'D'])\n",
    "a\n",
    "# series.drop(label)\n",
    "a.drop('A')"
   ]
  },
  {
   "cell_type": "markdown",
   "metadata": {},
   "source": [
    "## Selecting Entries "
   ]
  },
  {
   "cell_type": "code",
   "execution_count": null,
   "metadata": {},
   "outputs": [
    {
     "data": {
      "text/plain": [
       "A    False\nB     True\nC     True\ndtype: bool"
      ]
     },
     "execution_count": 39,
     "metadata": {},
     "output_type": "execute_result"
    }
   ],
   "source": [
    "ser = Series([1, 2, 3], index=['A', 'B', 'C'])\n",
    "ser = ser * 2\n",
    "ser\n",
    "\n",
    "# series[label]\n",
    "ser['A']\n",
    "\n",
    "# series[index]\n",
    "ser[0]\n",
    "\n",
    "# series[from_incl:to_excl]\n",
    "ser[0:3]\n",
    "\n",
    "# series[list_of_labels]\n",
    "ser[['A', 'B', 'C']]\n",
    "\n",
    "# series[boolean logic]\n",
    "ser[ser > 3]\n",
    "\n",
    "# return boolean series\n",
    "# where the boolean condition\n",
    "# is satisfied\n",
    "ser > 3"
   ]
  },
  {
   "cell_type": "markdown",
   "metadata": {},
   "source": [
    "## Difference in loc, iloc, and ix"
   ]
  },
  {
   "cell_type": "code",
   "execution_count": null,
   "metadata": {},
   "outputs": [],
   "source": [
    "# loc: loc works on labels in the index.\n",
    "# iloc: iloc works on the positions in the index (so it only takes integers).\n",
    "# ix: ix usually tries to behave like loc but falls back to behaving like iloc if the label is not in the index.\n",
    "# It's important to note some subtleties that can make ix slightly tricky to use:\n",
    "\n",
    "# 1. if the index is of integer type, ix will only use label-based indexing and not fall back to position-based \n",
    "# indexing. If the label is not in the index, an error is raised. \n",
    "\n",
    "\n",
    "# 2. if the index does not contain only integers, then given an integer, ix will immediately use position-based indexing\n",
    "# rather than label-based indexing. If however ix is given another type (e.g. a string), it can use label-based \n",
    "# indexing."
   ]
  },
  {
   "cell_type": "markdown",
   "metadata": {},
   "source": [
    "## Data Alignment"
   ]
  },
  {
   "cell_type": "code",
   "execution_count": null,
   "metadata": {},
   "outputs": [
    {
     "data": {
      "text/plain": [
       "A    False\nB    False\nC    False\nD     True\ndtype: bool"
      ]
     },
     "execution_count": 45,
     "metadata": {},
     "output_type": "execute_result"
    }
   ],
   "source": [
    "ser1 = Series([0, 1, 2], index=['A', 'B', 'C'])\n",
    "ser1\n",
    "ser2 = Series([3, 4, 5, 6], index=['A', 'B', 'C', 'D'])\n",
    "ser2\n",
    "\n",
    "# Adds up the values where the indices are matched\n",
    "# unmatched values are NaN\n",
    "ser1 + ser2"
   ]
  },
  {
   "cell_type": "markdown",
   "metadata": {},
   "source": [
    "## Getting Series from DataFrame"
   ]
  },
  {
   "cell_type": "code",
   "execution_count": null,
   "metadata": {},
   "outputs": [
    {
     "data": {
      "text/html": [
       "<div>\n",
       "<table border=\"1\" class=\"dataframe\">\n",
       "  <thead>\n",
       "    <tr style=\"text-align: right;\">\n",
       "      <th></th>\n",
       "      <th>1</th>\n",
       "      <th>2</th>\n",
       "      <th>3</th>\n",
       "    </tr>\n",
       "  </thead>\n",
       "  <tbody>\n",
       "    <tr>\n",
       "      <th>1</th>\n",
       "      <td>0</td>\n",
       "      <td>0</td>\n",
       "      <td>0</td>\n",
       "    </tr>\n",
       "    <tr>\n",
       "      <th>2</th>\n",
       "      <td>3</td>\n",
       "      <td>3</td>\n",
       "      <td>3</td>\n",
       "    </tr>\n",
       "    <tr>\n",
       "      <th>3</th>\n",
       "      <td>6</td>\n",
       "      <td>6</td>\n",
       "      <td>6</td>\n",
       "    </tr>\n",
       "  </tbody>\n",
       "</table>\n",
       "</div>"
      ],
      "text/plain": [
       "<div>\n",
       "<table border=\"1\" class=\"dataframe\">\n",
       "  <thead>\n",
       "    <tr style=\"text-align: right;\">\n",
       "      <th></th>\n",
       "      <th>1</th>\n",
       "      <th>2</th>\n",
       "      <th>3</th>\n",
       "    </tr>\n",
       "  </thead>\n",
       "  <tbody>\n",
       "    <tr>\n",
       "      <th>1</th>\n",
       "      <td>0</td>\n",
       "      <td>0</td>\n",
       "      <td>0</td>\n",
       "    </tr>\n",
       "    <tr>\n",
       "      <th>2</th>\n",
       "      <td>3</td>\n",
       "      <td>3</td>\n",
       "      <td>3</td>\n",
       "    </tr>\n",
       "    <tr>\n",
       "      <th>3</th>\n",
       "      <td>6</td>\n",
       "      <td>6</td>\n",
       "      <td>6</td>\n",
       "    </tr>\n",
       "  </tbody>\n",
       "</table>\n",
       "</div>"
      ]
     },
     "execution_count": 51,
     "metadata": {},
     "output_type": "execute_result"
    }
   ],
   "source": [
    "from pandas import DataFrame\n",
    "import numpy as np\n",
    "\n",
    "df = DataFrame(np.arange(9).reshape((3, 3)), index=[1, 2, 3], columns=['1', '2', '3'])\n",
    "# This returns a Series\n",
    "ser = df.ix[1]\n",
    "\n",
    "ser\n",
    "\n",
    "# This will subtract the values where the index \n",
    "# and columns match\n",
    "df - ser"
   ]
  },
  {
   "cell_type": "markdown",
   "metadata": {},
   "source": [
    "## Sorting and Ranking"
   ]
  },
  {
   "cell_type": "code",
   "execution_count": null,
   "metadata": {},
   "outputs": [
    {
     "name": "stdout",
     "output_type": "stream",
     "text": [
      "0    0.231772\n1    0.450153\n2    0.264536\n3    0.761744\n4    0.476350\n5    0.977210\n6    0.784463\n7    0.704043\n8    0.870795\n9    0.476925\ndtype: float64\n0    0.231772\n2    0.264536\n1    0.450153\n4    0.476350\n9    0.476925\n7    0.704043\n3    0.761744\n6    0.784463\n8    0.870795\n5    0.977210\ndtype: float64\n"
     ]
    },
    {
     "data": {
      "text/plain": [
       "0     1.0\n1     3.0\n2     2.0\n3     7.0\n4     4.0\n5    10.0\n6     8.0\n7     6.0\n8     9.0\n9     5.0\ndtype: float64"
      ]
     },
     "execution_count": 59,
     "metadata": {},
     "output_type": "execute_result"
    }
   ],
   "source": [
    "ser = Series(np.arange(3), index=['C', 'A', 'B'])\n",
    "\n",
    "# Sort series according to index\n",
    "ser.sort_index()\n",
    "\n",
    "# Sort series according to values\n",
    "ser.sort_values()  # Deprecated: series.order()\n",
    "\n",
    "ser = Series(np.random.rand(10), index=np.arange(10))\n",
    "ser\n",
    "ser.sort_values()\n",
    "\n",
    "# rank will give you the index and it's corresponding\n",
    "# position after you sort it\n",
    "ser.rank()"
   ]
  },
  {
   "cell_type": "markdown",
   "metadata": {},
   "source": [
    "## Unique Values and Value Counts"
   ]
  },
  {
   "cell_type": "markdown",
   "metadata": {},
   "source": [
    "## Unique Values and Value Counts"
   ]
  },
  {
   "cell_type": "code",
   "execution_count": null,
   "metadata": {},
   "outputs": [
    {
     "name": "stdout",
     "output_type": "stream",
     "text": [
      "0    1\n1    1\n2    2\n3    3\n4    4\ndtype: object\n['1' '2' '3' '4']\n1    2\n4    1\n2    1\n3    1\ndtype: int64\n"
     ]
    }
   ],
   "source": [
    "ser = Series(['1', '1', '2', '3', '4'])\n",
    "ser\n",
    "# print the unique values\n",
    "ser.unique()\n",
    "\n",
    "# prints number of times a value occurs\n",
    "ser.value_counts()"
   ]
  },
  {
   "cell_type": "markdown",
   "metadata": {},
   "source": [
    "## Fill missing data"
   ]
  },
  {
   "cell_type": "code",
   "execution_count": null,
   "metadata": {},
   "outputs": [
    {
     "data": {
      "text/plain": [
       "0    1.0\n1    2.0\n2    3.0\n3    1.0\n4    5.0\ndtype: float64"
      ]
     },
     "execution_count": 11,
     "metadata": {},
     "output_type": "execute_result"
    }
   ],
   "source": [
    "ser = Series([1, 2, 3, np.nan, 5])\n",
    "ser\n",
    "\n",
    "# Tells if some value is NaN, returns True\n",
    "ser.isnull()\n",
    "\n",
    "# Drop NaN values\n",
    "ser.dropna()\n",
    "\n",
    "# fill NaNs with something\n",
    "ser.fillna(1)"
   ]
  },
  {
   "cell_type": "markdown",
   "metadata": {},
   "source": [
    "## Index hierarchy"
   ]
  },
  {
   "cell_type": "code",
   "execution_count": null,
   "metadata": {},
   "outputs": [
    {
     "data": {
      "text/html": [
       "<div>\n",
       "<table border=\"1\" class=\"dataframe\">\n",
       "  <thead>\n",
       "    <tr style=\"text-align: right;\">\n",
       "      <th></th>\n",
       "      <th>a</th>\n",
       "      <th>b</th>\n",
       "      <th>c</th>\n",
       "      <th>e</th>\n",
       "      <th>f</th>\n",
       "    </tr>\n",
       "  </thead>\n",
       "  <tbody>\n",
       "    <tr>\n",
       "      <th>1</th>\n",
       "      <td>0.839926</td>\n",
       "      <td>-0.160235</td>\n",
       "      <td>-1.629168</td>\n",
       "      <td>NaN</td>\n",
       "      <td>NaN</td>\n",
       "    </tr>\n",
       "    <tr>\n",
       "      <th>2</th>\n",
       "      <td>-0.928232</td>\n",
       "      <td>NaN</td>\n",
       "      <td>NaN</td>\n",
       "      <td>0.970002</td>\n",
       "      <td>-1.410178</td>\n",
       "    </tr>\n",
       "  </tbody>\n",
       "</table>\n",
       "</div>"
      ],
      "text/plain": [
       "<div>\n",
       "<table border=\"1\" class=\"dataframe\">\n",
       "  <thead>\n",
       "    <tr style=\"text-align: right;\">\n",
       "      <th></th>\n",
       "      <th>a</th>\n",
       "      <th>b</th>\n",
       "      <th>c</th>\n",
       "      <th>e</th>\n",
       "      <th>f</th>\n",
       "    </tr>\n",
       "  </thead>\n",
       "  <tbody>\n",
       "    <tr>\n",
       "      <th>1</th>\n",
       "      <td>0.839926</td>\n",
       "      <td>-0.160235</td>\n",
       "      <td>-1.629168</td>\n",
       "      <td>NaN</td>\n",
       "      <td>NaN</td>\n",
       "    </tr>\n",
       "    <tr>\n",
       "      <th>2</th>\n",
       "      <td>-0.928232</td>\n",
       "      <td>NaN</td>\n",
       "      <td>NaN</td>\n",
       "      <td>0.970002</td>\n",
       "      <td>-1.410178</td>\n",
       "    </tr>\n",
       "  </tbody>\n",
       "</table>\n",
       "</div>"
      ]
     },
     "execution_count": 31,
     "metadata": {},
     "output_type": "execute_result"
    }
   ],
   "source": [
    "ser = Series(randn(6), index=[[1, 1, 1, 2, 2, 2], \n",
    "                              ['a', 'b', 'c', 'a', 'e', 'f']])\n",
    "ser.index\n",
    "# will return \n",
    "# MultiIndex(levels=[[1, 2], [u'a', u'b', u'c', u'd', u'e', u'f']],\n",
    "#           labels=[[0, 0, 0, 1, 1, 1], [0, 1, 2, 3, 4, 5]])\n",
    "\n",
    "ser[2]  # will return 3 values, for index 'd', 'e', 'f'\n",
    "\n",
    "# above command will select from level 0\n",
    "# below will select it from level 1\n",
    "# eg. from all level 0, where level 1 is 'a'\n",
    "ser[:, 'a']\n",
    "\n",
    "# unstack will convert level 0 indices to \n",
    "# DataFrame's index, and level 1 indices to\n",
    "# DataFrame columns\n",
    "df = ser.unstack()\n",
    "df"
   ]
  }
 ],
 "metadata": {
  "kernelspec": {
   "display_name": "Python 2",
   "language": "python",
   "name": "python2"
  },
  "language_info": {
   "codemirror_mode": {
    "name": "ipython",
    "version": 2.0
   },
   "file_extension": ".py",
   "mimetype": "text/x-python",
   "name": "python",
   "nbconvert_exporter": "python",
   "pygments_lexer": "ipython2",
   "version": "2.7.6"
  }
 },
 "nbformat": 4,
 "nbformat_minor": 0
}