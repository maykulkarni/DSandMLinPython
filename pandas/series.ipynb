{
 "cells": [
  {
   "cell_type": "code",
   "execution_count": 18,
   "metadata": {
    "collapsed": true
   },
   "outputs": [
    {
     "data": {
      "text/plain": [
       "10"
      ]
     },
     "execution_count": 18,
     "metadata": {},
     "output_type": "execute_result"
    }
   ],
   "source": [
    "from pandas import Series\n",
    "import pandas as pd\n",
    "\n",
    "a = Series([1, 2, 3, 4])\n",
    "\n",
    "# print values\n",
    "a.values\n",
    "# indices\n",
    "a.index\n",
    "\n",
    "# use different indices\n",
    "b = Series([10, 20, 30, 50], ['Mayur', 'Naruto', 'Uzumaki', 'Sasuke'])\n",
    "\n",
    "# can now use index as 'Mayur', this is like dictionary\n",
    "b['Mayur']"
   ]
  },
  {
   "cell_type": "markdown",
   "metadata": {},
   "source": [
    "## Operations on Series\n"
   ]
  },
  {
   "cell_type": "code",
   "execution_count": 27,
   "metadata": {},
   "outputs": [
    {
     "data": {
      "text/plain": [
       "This is an index name\na    1\nb    2\nc    3\nd    4\nName: Random Series, dtype: int64"
      ]
     },
     "execution_count": 27,
     "metadata": {},
     "output_type": "execute_result"
    }
   ],
   "source": [
    "# can select using bool operations\n",
    "b[b > 20]\n",
    "\n",
    "# is some index present in the Series\n",
    "'Mayur' in b  # returns True\n",
    "\n",
    "# convert to dict\n",
    "b_dict = b.to_dict()\n",
    "b_dict  # {'Mayur': 10, 'Naruto': 20, 'Sasuke': 50, 'Uzumaki': 30}\n",
    "\n",
    "# Series can also be constructed from dictionary\n",
    "series_from_dict = Series(b_dict)\n",
    "series_from_dict\n",
    "\n",
    "# passing custom index from list will keep the existing\n",
    "# keys from the list same while inserting NaN for new ones\n",
    "# eg: {'a': 10, 'b': 20} and passing index list as ['a', 'b', 'c']\n",
    "# will have effect: {'a': 10, 'b': 20, 'c': NaN}\n",
    "# these NaNs can be checked using pd.isnull()\n",
    "a = Series(series_from_dict, index=['Mayur', 'Sakura'])\n",
    "a\n",
    "pd.isnull(a)  # will have entry true for 'Sakura'\n",
    "\n",
    "# can also check for notnull, just opposite of isnull\n",
    "pd.notnull(a)\n",
    "\n",
    "# adding series to series will sort them by index\n",
    "# and add values corresponding to similar indices\n",
    "# Indices present in one but not other will ending\n",
    "# up being NaN\n",
    "a = Series([1, 2, 3, 4], ['a', 'b', 'c', 'd'])\n",
    "b = Series([5, 6, 7, 8], ['a', 'b', 'g', 'h'])\n",
    "a + b\n",
    "\n",
    "# We can set name for Series and it's indices\n",
    "a.name = \"Random Series\"\n",
    "a.index.name = \"This is an index name\"\n",
    "a"
   ]
  },
  {
   "cell_type": "code",
   "execution_count": null,
   "metadata": {},
   "outputs": [],
   "source": [
    ""
   ]
  }
 ],
 "metadata": {
  "kernelspec": {
   "display_name": "Python 2",
   "language": "python",
   "name": "python2"
  },
  "language_info": {
   "codemirror_mode": {
    "name": "ipython",
    "version": 2.0
   },
   "file_extension": ".py",
   "mimetype": "text/x-python",
   "name": "python",
   "nbconvert_exporter": "python",
   "pygments_lexer": "ipython2",
   "version": "2.7.6"
  }
 },
 "nbformat": 4,
 "nbformat_minor": 0
}