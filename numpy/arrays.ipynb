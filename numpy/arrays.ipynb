{
 "cells": [
  {
   "cell_type": "code",
   "execution_count": 5,
   "metadata": {
    "collapsed": true
   },
   "outputs": [
    {
     "name": "stdout",
     "output_type": "stream",
     "text": [
      "(2, 4)\n"
     ]
    }
   ],
   "source": [
    "import numpy as np\n",
    "\n",
    "# Create numpy array from list\n",
    "list = [1, 2, 3, 4, 5]\n",
    "array = np.array(list)\n",
    "\n",
    "# Multi dimensional array\n",
    "nd_array = np.array([[1, 2, 3, 4], [5, 6, 7, 8]])\n",
    "\n",
    "\n",
    "# What's the shape\n",
    "print nd_array.shape"
   ]
  },
  {
   "cell_type": "code",
   "execution_count": 6,
   "metadata": {
    "collapsed": false
   },
   "outputs": [
    {
     "name": "stdout",
     "output_type": "stream",
     "text": [
      "[[ 1.  0.  0.  0.  0.]\n [ 0.  1.  0.  0.  0.]\n [ 0.  0.  1.  0.  0.]\n [ 0.  0.  0.  1.  0.]\n [ 0.  0.  0.  0.  1.]]\n"
     ]
    }
   ],
   "source": [
    "# Zeros - return array of zeros default \n",
    "# floating type\n",
    "zeros = np.zeros((2, 2))\n",
    "\n",
    "# Same for ones\n",
    "ones = np.ones((2, 2))\n",
    "\n",
    "# Identity matrix\n",
    "i = np.eye(5)\n",
    "print i"
   ]
  },
  {
   "cell_type": "code",
   "execution_count": 7,
   "metadata": {
    "collapsed": false
   },
   "outputs": [
    {
     "name": "stdout",
     "output_type": "stream",
     "text": [
      "[ 1.   1.5]\n"
     ]
    }
   ],
   "source": [
    "# Gets evenly spaced numbers\n",
    "# params = [start incl, stop excl, step]\n",
    "lis = np.arange(1, 2, 0.5)\n",
    "print lis"
   ]
  },
  {
   "cell_type": "markdown",
   "metadata": {},
   "source": [
    "## Arithmetic Operations"
   ]
  },
  {
   "cell_type": "code",
   "execution_count": 8,
   "metadata": {
    "collapsed": true
   },
   "outputs": [
    {
     "name": "stdout",
     "output_type": "stream",
     "text": [
      "Multiplication\n[ 4 10 18 28]\nExponentiation\n[ 1  4  9 16]\nDivison\n[ 0.25        0.4         0.5         0.57142857]\nSubtraction\n[-3 -3 -3 -3]\nAddition\n[ 5  7  9 11]\n"
     ]
    }
   ],
   "source": [
    "from __future__ import division\n",
    "# Element wise multiplication\n",
    "# [a1 a2 a3] * [b1 b2 b3] = [a1*b1 a2*b2 a3*b3]\n",
    "# Same foe nd case\n",
    "a = np.array([1, 2, 3, 4])\n",
    "b = np.array([4, 5, 6, 7])\n",
    "print \"Multiplication\"\n",
    "print a*b\n",
    "\n",
    "# Exponential operation\n",
    "print \"Exponentiation\"\n",
    "n = a**2\n",
    "print n\n",
    "\n",
    "# Same for division\n",
    "print \"Divison\" \n",
    "print a/b\n",
    "\n",
    "# Same for Subtraction\n",
    "print \"Subtraction\"\n",
    "print a - b\n",
    "\n",
    "# Addition\n",
    "print \"Addition\"\n",
    "print a + b"
   ]
  },
  {
   "cell_type": "code",
   "execution_count": 9,
   "metadata": {
    "collapsed": false
   },
   "outputs": [
    {
     "name": "stdout",
     "output_type": "stream",
     "text": [
      "[[2 2 2]\n [4 5 6]\n [7 8 9]]\n"
     ]
    }
   ],
   "source": [
    "arr = np.array([1, 2, 3, 4, 5, 6, 7, 8, 9, 10])\n",
    "# print arr[0:5]\n",
    "\n",
    "# Modify from certain point to certain point\n",
    "arr[0:5] = 100\n",
    "# print arr\n",
    "\n",
    "# Slice array\n",
    "# Warning: this is shallow copy\n",
    "# changing slice will change the original \n",
    "# array\n",
    "slice = arr[0:5]\n",
    "# print slice\n",
    "\n",
    "# create deep copy, now changing slice\n",
    "# won't change the original array\n",
    "arr_copy = arr.copy()\n",
    "# print arr_copy\n",
    "\n",
    "# Indexing 2D array\n",
    "# array[start_row:end_row , start_col:end_col]\n",
    "arr_2d = np.array([[1, 2, 3], [4, 5, 6], [7, 8, 9]])\n",
    "# print arr_2d[:2, 1:]  # top right corner\n",
    "\n",
    "# arr[:][1] doesn't work because\n",
    "# arr[:] selects the entire array and\n",
    "# arr[:][1] selects second column\n",
    "\n",
    "# This sets the entire first row to 2\n",
    "# similar to arr[0][:3] = 2\n",
    "arr_2d[0] = 2\n",
    "# print arr_2d\n",
    "\n",
    "\n",
    "# arr[list_of_rows] will select list_of_rows\n",
    "# in the order in the list\n",
    "list_of_rows = [0, 1, 2]\n",
    "print arr_2d[list_of_rows]  # prints 0th 1st \n",
    "                            # and 2nd column"
   ]
  },
  {
   "cell_type": "code",
   "execution_count": 10,
   "metadata": {
    "collapsed": false
   },
   "outputs": [
    {
     "name": "stdout",
     "output_type": "stream",
     "text": [
      "[[2 2 2]\n [4 5 6]\n [7 8 9]]\n"
     ]
    }
   ],
   "source": [
    "arr = np.array([1, 2, 3, 4, 5, 6, 7, 8, 9, 10])\n",
    "# print arr[0:5]\n",
    "\n",
    "# Modify from certain point to certain point\n",
    "arr[0:5] = 100\n",
    "# print arr\n",
    "\n",
    "# Slice array\n",
    "# Warning: this is shallow copy\n",
    "# changing slice will change the original \n",
    "# array\n",
    "slice = arr[0:5]\n",
    "# print slice\n",
    "\n",
    "# create deep copy, now changing slice\n",
    "# won't change the original array\n",
    "arr_copy = arr.copy()\n",
    "# print arr_copy\n",
    "\n",
    "# Indexing 2D array\n",
    "# array[start_row:end_row , start_col:end_col]\n",
    "arr_2d = np.array([[1, 2, 3], [4, 5, 6], [7, 8, 9]])\n",
    "# print arr_2d[:2, 1:]  # top right corner\n",
    "\n",
    "# arr[:][1] doesn't work because\n",
    "# arr[:] selects the entire array and\n",
    "# arr[:][1] selects second column\n",
    "\n",
    "# This sets the entire first row to 2\n",
    "# similar to arr[0][:3] = 2\n",
    "arr_2d[0] = 2\n",
    "# print arr_2d\n",
    "\n",
    "\n",
    "# arr[list_of_rows] will select list_of_rows\n",
    "# in the order in the list\n",
    "list_of_rows = [0, 1, 2]\n",
    "print arr_2d[list_of_rows]  # prints 0th 1st \n",
    "                            # and 2nd column"
   ]
  },
  {
   "cell_type": "code",
   "execution_count": 11,
   "metadata": {
    "collapsed": false
   },
   "outputs": [
    {
     "name": "stdout",
     "output_type": "stream",
     "text": [
      "[[1 2 3]\n [4 5 6]]\n[[1 4]\n [2 5]\n [3 6]]\n"
     ]
    }
   ],
   "source": [
    "# Reshape 1D array to x by y using reshape\n",
    "arr = np.arange(30)\n",
    "# print arr\n",
    "arr = arr.reshape((6, 5))\n",
    "# print arr\n",
    "\n",
    "# Transpose\n",
    "arr = arr.T\n",
    "# print arr\n",
    "\n",
    "# Dot product - Matrix multiplication\n",
    "arr = arr.dot(arr.T)\n",
    "# print arr\n",
    "\n",
    "arr = np.array([[1, 2, 3], [4, 5, 6]])\n",
    "print arr\n",
    "\n",
    "print arr.swapaxes(0, 1)"
   ]
  },
  {
   "cell_type": "code",
   "execution_count": 12,
   "metadata": {
    "collapsed": false
   },
   "outputs": [
    {
     "name": "stdout",
     "output_type": "stream",
     "text": [
      "[[1 2 3]\n [4 5 6]]\n[[1 4]\n [2 5]\n [3 6]]\n"
     ]
    }
   ],
   "source": [
    "# Reshape 1D array to x by y using reshape\n",
    "arr = np.arange(30)\n",
    "# print arr\n",
    "arr = arr.reshape((6, 5))\n",
    "# print arr\n",
    "\n",
    "# Transpose\n",
    "arr = arr.T\n",
    "# print arr\n",
    "\n",
    "# Dot product - Matrix multiplication\n",
    "arr = arr.dot(arr.T)\n",
    "# print arr\n",
    "\n",
    "arr = np.array([[1, 2, 3], [4, 5, 6]])\n",
    "print arr\n",
    "\n",
    "print arr.swapaxes(0, 1)"
   ]
  },
  {
   "cell_type": "markdown",
   "metadata": {},
   "source": [
    "## Universal Array Functions"
   ]
  },
  {
   "cell_type": "code",
   "execution_count": 13,
   "metadata": {
    "collapsed": false
   },
   "outputs": [
    {
     "data": {
      "text/plain": [
       "array([12,  7,  8,  9])"
      ]
     },
     "execution_count": 12,
     "metadata": {},
     "output_type": "execute_result"
    }
   ],
   "source": [
    "arr = np.arange(11)\n",
    "# square root\n",
    "np.sqrt(arr)\n",
    "\n",
    "# exp\n",
    "np.exp(arr)\n",
    "\n",
    "# return max entries of two arrays\n",
    "# at each position\n",
    "np.maximum(np.array([12, 2, 3, 4]), np.array([6, 7, 8, 9]))"
   ]
  },
  {
   "cell_type": "code",
   "execution_count": 13,
   "metadata": {
    "collapsed": true
   },
   "outputs": [],
   "source": [
    "import matplotlib.pyplot as plt\n",
    "%matplotlib inline\n",
    "\n",
    "points = np.arange(-5, 5, 0.01)\n",
    "\n",
    "# meshgrid creates rangoli points out of\n",
    "# the unique co ordinates you pass it in\n",
    "dx, dy = np.meshgrid(points, points)\n",
    "\n",
    "# imshow will show you colored form of the \n",
    "# matrix you have\n",
    "z = (np.sin(dx) + np.sin(dy))\n",
    "plt.imshow(np.sin(dx) + np.sin(dy))\n",
    "plt.show()"
   ]
  },
  {
   "cell_type": "markdown",
   "metadata": {},
   "source": [
    "## Array Processing"
   ]
  },
  {
   "cell_type": "code",
   "execution_count": 15,
   "metadata": {
    "collapsed": false
   },
   "outputs": [
    {
     "name": "stdout",
     "output_type": "stream",
     "text": [
      "[[-0.0943546  -0.2826438  -1.14367498  0.1476079  -1.31040367]\n [-0.68851269  0.98567149  0.65272481 -0.46577697 -0.96674932]\n [-0.60497777 -0.85458204  0.3178462   0.7396049   1.52535902]\n [-0.45979721  0.07584698 -1.30629667  1.20744855  1.40295374]\n [ 1.49428875 -1.69295824 -0.58141437 -1.86892962  0.14790705]]\n"
     ]
    },
    {
     "data": {
      "text/plain": [
       "array([[0, 0, 0, 1, 0],\n       [0, 1, 1, 0, 0],\n       [0, 0, 1, 1, 1],\n       [0, 1, 0, 1, 1],\n       [1, 0, 0, 0, 1]])"
      ]
     },
     "execution_count": 14,
     "metadata": {},
     "output_type": "execute_result"
    }
   ],
   "source": [
    "# numpy where\n",
    "a = np.array([1, 2, 3, 4])\n",
    "b = np.array([10, 20, 30, 40])\n",
    "conditions = np.array([True, True, False, False])\n",
    "ans = [(a_v if cond else b_v) for a_v, b_v, cond in zip(a, b, conditions)]\n",
    "# print ans\n",
    "# what numpy where does is exactly same as the\n",
    "# above list comprehension\n",
    "ans2 = np.where(conditions, a, b)\n",
    "# print ans2\n",
    "\n",
    "# Example : generate random 0 or 1 array\n",
    "arr = np.random.randn(5, 5)  # 5x5 random array\n",
    "print arr\n",
    "# format (condition, if - do, else - do)\n",
    "np.where(arr < 0, 0, 1)"
   ]
  },
  {
   "cell_type": "markdown",
   "metadata": {},
   "source": [
    "## Some Handy Functions"
   ]
  },
  {
   "cell_type": "code",
   "execution_count": 16,
   "metadata": {
    "collapsed": false
   },
   "outputs": [
    {
     "name": "stdout",
     "output_type": "stream",
     "text": [
      "[[13  2  3]\n [44 53 63]\n [ 7  8  9]]\n[ 3  5  7  8 43]\n[[ 2  3 13]\n [44 53 63]\n [ 7  8  9]]\n"
     ]
    },
    {
     "data": {
      "text/plain": [
       "array([False,  True,  True,  True,  True, False, False], dtype=bool)"
      ]
     },
     "execution_count": 15,
     "metadata": {},
     "output_type": "execute_result"
    }
   ],
   "source": [
    "arr = np.array([[13, 2, 3], [44, 53, 63], [7, 8, 9]])\n",
    "arr.sum()   # sum of all values\n",
    "print arr\n",
    "arr.sum(0)  # sum along 0 axis - columns\n",
    "arr.sum(1)  # sum along 1 axis - rows\n",
    "arr.mean()  # mean\n",
    "arr.std()   # std deviation\n",
    "arr.var()   # variance\n",
    "\n",
    "arr_1d = np.array([7, 43, 8, 5, 3])\n",
    "arr_1d.sort()   # sorts 1D array normally\n",
    "\n",
    "print arr_1d    \n",
    "arr.sort()      # for 2D array, sorts each\n",
    "print arr       # internal 1D array in order\n",
    "\n",
    "arr_u = np.array([1, 2, 3, 4, 4, 5, 5])\n",
    "np.unique(arr_u)    # returns unique values\n",
    "# in1D is like are elements of list_a in list_b\n",
    "# if yes return true else return false\n",
    "np.in1d(arr_u, [2, 3, 4])"
   ]
  },
  {
   "cell_type": "markdown",
   "metadata": {},
   "source": [
    "## Array Input and Output"
   ]
  },
  {
   "cell_type": "code",
   "execution_count": 17,
   "metadata": {
    "collapsed": false
   },
   "outputs": [
    {
     "data": {
      "text/plain": [
       "array([[ 1.,  2.,  3.],\n       [ 4.,  5.,  6.]])"
      ]
     },
     "execution_count": 16,
     "metadata": {},
     "output_type": "execute_result"
    }
   ],
   "source": [
    "arr = np.arange(10)\n",
    "arr\n",
    "np.save('my_array', arr)\n",
    "arr = 10\n",
    "# same like pickle\n",
    "arr_npy = np.load('my_array.npy')  \n",
    "\n",
    "arr2 = np.array([1, 2, 3, 4, 5])\n",
    "# save as zip file \n",
    "# 2nd parameter is the name\n",
    "# you want to give eg. a=arr1, later on\n",
    "# when you fetch the zip file, you specify\n",
    "# it like zip_file['a']\n",
    "# can save multiple arrays like a=arr1, b=arr2\n",
    "# and so on\n",
    "np.savez('arr2', p=arr2)\n",
    "zip_array = np.load('arr2.npz')\n",
    "zip_array['p']\n",
    "\n",
    "# save a single array to text file\n",
    "arr_txt = np.array([[1, 2, 3], [4, 5, 6]])\n",
    "arr_txt\n",
    "np.savetxt('arr_txt.txt', arr_txt, delimiter=',')\n",
    "from_txt = np.loadtxt('arr_txt.txt', delimiter=',')\n",
    "from_txt"
   ]
  },
  {
   "cell_type": "code",
   "execution_count": null,
   "metadata": {},
   "outputs": [],
   "source": [
    ""
   ]
  }
 ],
 "metadata": {
  "anaconda-cloud": {},
  "kernelspec": {
   "display_name": "Python [default]",
   "language": "python",
   "name": "python2"
  },
  "language_info": {
   "codemirror_mode": {
    "name": "ipython",
    "version": 2.0
   },
   "file_extension": ".py",
   "mimetype": "text/x-python",
   "name": "python",
   "nbconvert_exporter": "python",
   "pygments_lexer": "ipython2",
   "version": "2.7.12"
  }
 },
 "nbformat": 4,
 "nbformat_minor": 0
}